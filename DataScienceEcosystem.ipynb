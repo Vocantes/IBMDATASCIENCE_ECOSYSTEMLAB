{
 "cells": [
  {
   "cell_type": "markdown",
   "id": "e8c4489f-1378-4dfd-92d3-476b4e0c7455",
   "metadata": {},
   "source": [
    "# Data Science Tools and Ecosystem\n"
   ]
  },
  {
   "cell_type": "markdown",
   "id": "ba5b8f5d-a650-4adf-b99a-6b73216a65c0",
   "metadata": {},
   "source": [
    "In this notebook, Data Science Tools and Ecosystem are summarized."
   ]
  },
  {
   "cell_type": "markdown",
   "id": "0e7ecd02-3fc1-44b5-8314-d3e563f27cce",
   "metadata": {},
   "source": [
    "**Objectives:**"
   ]
  },
  {
   "cell_type": "markdown",
   "id": "80a3490f-3c83-4097-b0c2-8e78335aa054",
   "metadata": {},
   "source": [
    "- Create a table with open source data science tools\n",
    "- Evaluate arithmetic expressions in Python\n",
    "- List commonly used libraries in data science"
   ]
  },
  {
   "cell_type": "markdown",
   "id": "c46e6e55-6a28-449a-b01f-de6883b9fe61",
   "metadata": {},
   "source": [
    "Some of the popular languages that Data Scientists use are:\n",
    "1. Python\n",
    "2. R\n",
    "3. SQL"
   ]
  },
  {
   "cell_type": "markdown",
   "id": "9b9ecad2-f2b6-480f-b389-54f712d2485a",
   "metadata": {},
   "source": [
    "Some of the commonly used libraries used by Data Scientists include:\n",
    "1. Pandas\n",
    "2. ggplot2\n",
    "3. dplyr"
   ]
  },
  {
   "cell_type": "markdown",
   "id": "9c28b4ca-16de-4329-8461-17424af22068",
   "metadata": {},
   "source": [
    "|Data Science Tools|\n",
    "|----|\n",
    "|Jupyter Lab|\n",
    "|Hadoop|\n",
    "|Apache Spark|"
   ]
  },
  {
   "cell_type": "markdown",
   "id": "e1ce4b30-2729-4fdc-b321-6ae385209eaf",
   "metadata": {},
   "source": [
    "### Below are a few examples of evaluating arithmetic expressions in Python"
   ]
  },
  {
   "cell_type": "code",
   "execution_count": 1,
   "id": "108459f6-2a78-448c-ab7a-f416e9cade9f",
   "metadata": {
    "tags": []
   },
   "outputs": [
    {
     "data": {
      "text/plain": [
       "17"
      ]
     },
     "execution_count": 1,
     "metadata": {},
     "output_type": "execute_result"
    }
   ],
   "source": [
    "#This a simple arithmetic expression to mutiply then add integers\n",
    "(3*4)+5"
   ]
  },
  {
   "cell_type": "code",
   "execution_count": 2,
   "id": "f28abe99-dfdc-489a-82ab-cbb9dae71abe",
   "metadata": {
    "tags": []
   },
   "outputs": [
    {
     "data": {
      "text/plain": [
       "3.3333333333333335"
      ]
     },
     "execution_count": 2,
     "metadata": {},
     "output_type": "execute_result"
    }
   ],
   "source": [
    "#  This will convert 200 minutes to hours by diving by 60\n",
    "200 / 60"
   ]
  },
  {
   "cell_type": "markdown",
   "id": "91c4390e-89ac-4a41-a601-cdf5274ef14c",
   "metadata": {},
   "source": [
    "## Author \n",
    "Zackary Ashworth"
   ]
  },
  {
   "cell_type": "code",
   "execution_count": null,
   "id": "edf81eac-cbc2-4176-af90-14e908a3c847",
   "metadata": {},
   "outputs": [],
   "source": []
  }
 ],
 "metadata": {
  "kernelspec": {
   "display_name": "Python",
   "language": "python",
   "name": "conda-env-python-py"
  },
  "language_info": {
   "codemirror_mode": {
    "name": "ipython",
    "version": 3
   },
   "file_extension": ".py",
   "mimetype": "text/x-python",
   "name": "python",
   "nbconvert_exporter": "python",
   "pygments_lexer": "ipython3",
   "version": "3.7.12"
  }
 },
 "nbformat": 4,
 "nbformat_minor": 5
}
